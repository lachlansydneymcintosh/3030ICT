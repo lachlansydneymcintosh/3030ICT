{
  "cells": [
    {
      "cell_type": "markdown",
      "metadata": {
        "id": "7FUM_F0OoNdG"
      },
      "source": [
        "# Similarity"
      ]
    },
    {
      "cell_type": "markdown",
      "metadata": {
        "id": "GLhMD7ojoNdI"
      },
      "source": [
        "We will work on applying similarity: Jaccard and Cosine similarity. This exercise is a simple application of the lecture."
      ]
    },
    {
      "cell_type": "markdown",
      "metadata": {
        "id": "IzIc1l5coNdI"
      },
      "source": [
        "Begin by importing the needed libraries:"
      ]
    },
    {
      "cell_type": "code",
      "execution_count": 14,
      "metadata": {
        "id": "T3JiULjroNdI"
      },
      "outputs": [],
      "source": [
        "# import needed libraries\n",
        "import nltk\n",
        "import numpy as np\n",
        "import pandas as pd\n",
        "import sklearn"
      ]
    },
    {
      "cell_type": "markdown",
      "metadata": {
        "id": "-1kLYjvOoNdJ"
      },
      "source": [
        "We will work with the following examples:"
      ]
    },
    {
      "cell_type": "code",
      "execution_count": 2,
      "metadata": {
        "id": "1LlMIEWGoNdJ"
      },
      "outputs": [],
      "source": [
        "A = \"Outside the classroom, Stallman pursued his studies with even more diligence, rushing off to fulfill his laboratory-assistant duties at Rockefeller University during the week and dodging the Vietnam protesters on his way to Saturday school at Columbia. It was there, while the rest of the Science Honors Program students sat around discussing their college choices, that Stallman finally took a moment to participate in the preclass bull session.\"\n",
        "B = \"To facilitate the process, AI Lab hackers had built a system that displayed both the source and display modes on a split screen. Despite this innovative hack, switching from mode to mode was still a nuisance.\"\n",
        "C = \"With no dorm and no dancing, Stallman's social universe imploded. Like an astronaut experiencing the aftereffects of zero-gravity, Stallman found that his ability to interact with nonhackers, especially female nonhackers, had atrophied significantly. After 16 weeks in the AI Lab, the self confidence he'd been quietly accumulating during his 4 years at Harvard was virtually gone.\""
      ]
    },
    {
      "cell_type": "markdown",
      "metadata": {
        "id": "cSb3lzRIoNdK"
      },
      "source": [
        "Begin by computing the Jaccard Similarity J of all possibilities:\n",
        "* J(A, B)\n",
        "* J(B, C)\n",
        "* J(A, C)"
      ]
    },
    {
      "cell_type": "code",
      "execution_count": 7,
      "metadata": {
        "colab": {
          "base_uri": "https://localhost:8080/"
        },
        "id": "6Vhenb7goNdK",
        "outputId": "f8d2d058-bacd-4ad4-f742-1ef012530612"
      },
      "outputs": [
        {
          "output_type": "stream",
          "name": "stdout",
          "text": [
            "Jacard Similarity AB 0.08536585365853659\n",
            "Jacard Similarity BC 0.09210526315789473\n",
            "Jacard Similarity AC 0.125\n"
          ]
        }
      ],
      "source": [
        "# TODO: compute the Jaccard similarities\n",
        "# Split the sentences\n",
        "a = set(A.split())\n",
        "b = set(B.split())\n",
        "c = set(C.split())\n",
        "\n",
        "# Compute the intersection and union\n",
        "intersectionAB = a.intersection(b)\n",
        "intersectionBC = b.intersection(c)\n",
        "intersectionAC = a.intersection(c)\n",
        "\n",
        "unionAB = a.union(b)\n",
        "unionBC = b.union(c)\n",
        "unionAC = a.union(c)\n",
        "\n",
        "# Compute and print the Jaccard Similarity\n",
        "JAB = len(intersectionAB)/len(unionAB)\n",
        "print(\"Jacard Similarity AB\", JAB)\n",
        "\n",
        "JBC = len(intersectionBC)/len(unionBC)\n",
        "print(\"Jacard Similarity BC\", JBC)\n",
        "\n",
        "JAC = len(intersectionAC)/len(unionAC)\n",
        "print(\"Jacard Similarity AC\", JAC)"
      ]
    },
    {
      "cell_type": "markdown",
      "metadata": {
        "id": "8q9PqTlroNdK"
      },
      "source": [
        "What are the closest to the other according to Jaccard Similarity?\n",
        "\n",
        "Now let's do the same using TF-IDF and Cosine Similarity. Compute the TF-IDF and cosine similarities and print them."
      ]
    },
    {
      "cell_type": "code",
      "execution_count": 24,
      "metadata": {
        "scrolled": true,
        "colab": {
          "base_uri": "https://localhost:8080/",
          "height": 487
        },
        "id": "Z_tAs4fUoNdL",
        "outputId": "4e4c9570-312d-4c0a-bec6-4c1ab125438c"
      },
      "outputs": [
        {
          "output_type": "stream",
          "name": "stdout",
          "text": [
            "cos(A, B): 0.16793269576264072\n",
            "cos(B, C): 0.13618963113796587\n",
            "cos(A, C): 0.28502960323339077\n"
          ]
        },
        {
          "output_type": "display_data",
          "data": {
            "text/plain": [
              "<Figure size 640x480 with 2 Axes>"
            ],
            "image/png": "[encoded data removed]"
          },
          "metadata": {}
        }
      ],
      "source": [
        "# TODO: compute the TF-IDF of A, B and C and the cosine similarities of all possibilities\n",
        "from sklearn.feature_extraction.text import TfidfVectorizer\n",
        "from sklearn.metrics.pairwise import cosine_similarity\n",
        "\n",
        "vectorizer = TfidfVectorizer()\n",
        "tf_idf = vectorizer.fit_transform([A, B, C]).toarray()\n",
        "tf_idf\n",
        "\n",
        "sim = cosine_similarity(tf_idf, tf_idf)\n",
        "\n",
        "import seaborn as sns\n",
        "import matplotlib.pyplot as plt\n",
        "sns.heatmap(sim, annot=True, xticklabels=[\"A\", \"B\", \"C\"], yticklabels=[\"A\", \"B\", \"C\"])\n",
        "\n",
        "print(\"cos(A, B):\", sim[0][1])\n",
        "print(\"cos(B, C):\", sim[1][2])\n",
        "print(\"cos(A, C):\", sim[0][2])"
      ]
    },
    {
      "cell_type": "markdown",
      "metadata": {
        "id": "kSd5hoFQoNdL"
      },
      "source": [
        "Is it consistent with the Jaccard values?\n",
        "\n",
        "For AC it is, but it is not for BC & AB."
      ]
    }
  ],
  "metadata": {
    "kernelspec": {
      "display_name": "Python 3 (ipykernel)",
      "language": "python",
      "name": "python3"
    },
    "language_info": {
      "codemirror_mode": {
        "name": "ipython",
        "version": 3
      },
      "file_extension": ".py",
      "mimetype": "text/x-python",
      "name": "python",
      "nbconvert_exporter": "python",
      "pygments_lexer": "ipython3",
      "version": "3.9.7"
    },
    "toc": {
      "base_numbering": 1,
      "nav_menu": {},
      "number_sections": true,
      "sideBar": true,
      "skip_h1_title": false,
      "title_cell": "Table of Contents",
      "title_sidebar": "Contents",
      "toc_cell": false,
      "toc_position": {},
      "toc_section_display": true,
      "toc_window_display": false
    },
    "colab": {
      "provenance": []
    }
  },
  "nbformat": 4,
  "nbformat_minor": 0
}