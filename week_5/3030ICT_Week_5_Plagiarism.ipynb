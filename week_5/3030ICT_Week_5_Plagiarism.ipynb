{
  "cells": [
    {
      "cell_type": "markdown",
      "metadata": {
        "id": "WrkRsOYZXB8Q"
      },
      "source": [
        "# Data loading"
      ],
      "id": "WrkRsOYZXB8Q"
    },
    {
      "cell_type": "code",
      "execution_count": 2,
      "metadata": {
        "id": "BfFDretFXB8S"
      },
      "outputs": [],
      "source": [
        "file = open('A1.txt', 'r')\n",
        "A1 = file.readlines()[0]\n",
        "\n",
        "file = open('Asource.txt', 'r')\n",
        "A0 = file.readlines()[0]\n",
        "\n",
        "file = open('B1.txt', 'r')\n",
        "B1 = file.readlines()[0]\n",
        "\n",
        "file = open('Bsource.txt', 'r')\n",
        "B0 = file.readlines()[0]\n",
        "\n",
        "file = open('C1.txt', 'r')\n",
        "C1 = file.readlines()[0]\n",
        "\n",
        "file = open('Csource.txt', 'r')\n",
        "C0 = file.readlines()[0]\n",
        "\n",
        "file = open('D1.txt', 'r')\n",
        "D1 = file.readlines()[0]\n",
        "\n",
        "file = open('D2.txt', 'r')\n",
        "D2 = file.readlines()[0]\n",
        "\n",
        "file = open('Dsource.txt', 'r')\n",
        "D0 = file.readlines()[0]"
      ],
      "id": "BfFDretFXB8S"
    },
    {
      "cell_type": "code",
      "execution_count": 3,
      "metadata": {
        "colab": {
          "base_uri": "https://localhost:8080/",
          "height": 164
        },
        "id": "whHi-188XB8U",
        "outputId": "cfcff553-b5fc-4d3a-be3d-bc664f7a111a"
      },
      "outputs": [
        {
          "output_type": "execute_result",
          "data": {
            "text/plain": [
              "'Descartes has been heralded as the first modern philosopher. He is famous for having made an important connection between geometry and algebra, which allowed for the solving of geometrical problems by way of algebraic equations. He is also famous for having promoted a new conception of matter, which allowed for the accounting of physical phenomena by way of mechanical explanations. However, he is most famous for having written a relatively short work, Meditationes de Prima Philosophia (Meditations On First Philosophy), published in 1641, in which he provides a philosophical groundwork for the possibility of the sciences. (Smith, 2007).\\n'"
            ],
            "application/vnd.google.colaboratory.intrinsic+json": {
              "type": "string"
            }
          },
          "metadata": {},
          "execution_count": 3
        }
      ],
      "source": [
        "C0"
      ],
      "id": "whHi-188XB8U"
    },
    {
      "cell_type": "code",
      "execution_count": 4,
      "metadata": {
        "id": "5MhB9L9fXB8U"
      },
      "outputs": [],
      "source": [
        "alldata = [A0, A1, B0, B1, C0, C1, D0, D1, D2]"
      ],
      "id": "5MhB9L9fXB8U"
    },
    {
      "cell_type": "markdown",
      "metadata": {
        "id": "gvnhu9fDXB8V"
      },
      "source": [
        "# Data preprocessing"
      ],
      "id": "gvnhu9fDXB8V"
    },
    {
      "cell_type": "code",
      "execution_count": 6,
      "metadata": {
        "id": "eAED8SSeXB8V"
      },
      "outputs": [],
      "source": [
        "#TODO: Compute tf-idf for all documents\n",
        "from sklearn.feature_extraction.text import TfidfVectorizer\n",
        "\n",
        "tfvect = TfidfVectorizer(stop_words=\"english\")\n",
        "tfvect.fit(alldata)\n",
        "\n",
        "tfidf = tfvect.transform(alldata).toarray()\n",
        "\n",
        "TFIDFA = tfvect.transform([A0, A1]).toarray()\n",
        "TFIDFB = tfvect.transform([B0, B1]).toarray()\n",
        "TFIDFC = tfvect.transform([C0, C1]).toarray()\n",
        "TFIDFD = tfvect.transform([D0, D1, D2]).toarray()"
      ],
      "id": "eAED8SSeXB8V"
    },
    {
      "cell_type": "markdown",
      "metadata": {
        "id": "E21i-EdTXB8V"
      },
      "source": [
        "# Similarity computation"
      ],
      "id": "E21i-EdTXB8V"
    },
    {
      "cell_type": "code",
      "execution_count": 7,
      "metadata": {
        "id": "0H8BB24JXB8V"
      },
      "outputs": [],
      "source": [
        "#TODO: pair-wise similarity\n",
        "from sklearn.metrics.pairwise import cosine_similarity\n",
        "\n",
        "similarityAA = cosine_similarity(TFIDFA, TFIDFA)\n",
        "similarityBB = cosine_similarity(TFIDFB, TFIDFB)\n",
        "similarityCC = cosine_similarity(TFIDFC, TFIDFC)\n",
        "similarityDD = cosine_similarity(TFIDFD, TFIDFD)\n",
        "\n",
        "similarityAll = cosine_similarity(tfidf, tfidf)"
      ],
      "id": "0H8BB24JXB8V"
    },
    {
      "cell_type": "code",
      "execution_count": 8,
      "metadata": {
        "colab": {
          "base_uri": "https://localhost:8080/"
        },
        "id": "zzvtMHt1XB8V",
        "outputId": "f99f97ea-e952-4522-b679-c7b9d8f81126"
      },
      "outputs": [
        {
          "output_type": "execute_result",
          "data": {
            "text/plain": [
              "array([[1.        , 0.81269313],\n",
              "       [0.81269313, 1.        ]])"
            ]
          },
          "metadata": {},
          "execution_count": 8
        }
      ],
      "source": [
        "similarityAA"
      ],
      "id": "zzvtMHt1XB8V"
    },
    {
      "cell_type": "code",
      "execution_count": 9,
      "metadata": {
        "colab": {
          "base_uri": "https://localhost:8080/"
        },
        "id": "9lgeaL4uXB8W",
        "outputId": "5279bd71-8de4-40d0-d682-5d7a91776efe"
      },
      "outputs": [
        {
          "output_type": "execute_result",
          "data": {
            "text/plain": [
              "array([[1.       , 0.6145188],\n",
              "       [0.6145188, 1.       ]])"
            ]
          },
          "metadata": {},
          "execution_count": 9
        }
      ],
      "source": [
        "similarityBB"
      ],
      "id": "9lgeaL4uXB8W"
    },
    {
      "cell_type": "code",
      "execution_count": 10,
      "metadata": {
        "colab": {
          "base_uri": "https://localhost:8080/"
        },
        "id": "g5DtIerLXB8W",
        "outputId": "8baaba3a-2b2c-414d-a646-804613dcf6b5"
      },
      "outputs": [
        {
          "output_type": "execute_result",
          "data": {
            "text/plain": [
              "array([[1.        , 0.79523042],\n",
              "       [0.79523042, 1.        ]])"
            ]
          },
          "metadata": {},
          "execution_count": 10
        }
      ],
      "source": [
        "similarityCC"
      ],
      "id": "g5DtIerLXB8W"
    },
    {
      "cell_type": "code",
      "execution_count": 11,
      "metadata": {
        "colab": {
          "base_uri": "https://localhost:8080/"
        },
        "id": "fOgpKDXyXB8W",
        "outputId": "02078883-0b7b-414d-cc96-0c8c382d04be"
      },
      "outputs": [
        {
          "output_type": "execute_result",
          "data": {
            "text/plain": [
              "array([[1.        , 0.9195032 , 0.29631597],\n",
              "       [0.9195032 , 1.        , 0.30632299],\n",
              "       [0.29631597, 0.30632299, 1.        ]])"
            ]
          },
          "metadata": {},
          "execution_count": 11
        }
      ],
      "source": [
        "similarityDD"
      ],
      "id": "fOgpKDXyXB8W"
    },
    {
      "cell_type": "code",
      "execution_count": 12,
      "metadata": {
        "colab": {
          "base_uri": "https://localhost:8080/"
        },
        "id": "NZ2NZimfXB8W",
        "outputId": "bde503e1-fd88-4743-d7e0-622c41a237a1"
      },
      "outputs": [
        {
          "output_type": "execute_result",
          "data": {
            "text/plain": [
              "array([[1.        , 0.81269313, 0.        , 0.        , 0.        ,\n",
              "        0.        , 0.01155606, 0.0112276 , 0.01107722],\n",
              "       [0.81269313, 1.        , 0.01385794, 0.01433889, 0.01459315,\n",
              "        0.01826465, 0.01214488, 0.01179969, 0.01164164],\n",
              "       [0.        , 0.01385794, 1.        , 0.6145188 , 0.02434957,\n",
              "        0.        , 0.01095688, 0.01064545, 0.        ],\n",
              "       [0.        , 0.01433889, 0.6145188 , 1.        , 0.01084673,\n",
              "        0.        , 0.01133714, 0.01101491, 0.        ],\n",
              "       [0.        , 0.01459315, 0.02434957, 0.01084673, 1.        ,\n",
              "        0.79523042, 0.        , 0.        , 0.01416745],\n",
              "       [0.        , 0.01826465, 0.        , 0.        , 0.79523042,\n",
              "        1.        , 0.        , 0.        , 0.01773184],\n",
              "       [0.01155606, 0.01214488, 0.01095688, 0.01133714, 0.        ,\n",
              "        0.        , 1.        , 0.9195032 , 0.29631597],\n",
              "       [0.0112276 , 0.01179969, 0.01064545, 0.01101491, 0.        ,\n",
              "        0.        , 0.9195032 , 1.        , 0.30632299],\n",
              "       [0.01107722, 0.01164164, 0.        , 0.        , 0.01416745,\n",
              "        0.01773184, 0.29631597, 0.30632299, 1.        ]])"
            ]
          },
          "metadata": {},
          "execution_count": 12
        }
      ],
      "source": [
        "similarityAll"
      ],
      "id": "NZ2NZimfXB8W"
    },
    {
      "cell_type": "code",
      "execution_count": 17,
      "metadata": {
        "colab": {
          "base_uri": "https://localhost:8080/",
          "height": 430
        },
        "id": "zLCWfK0cXB8X",
        "outputId": "44fff6ef-4cc7-4f49-fed4-0f410aff2e58"
      },
      "outputs": [
        {
          "output_type": "display_data",
          "data": {
            "text/plain": [
              "<Figure size 640x480 with 1 Axes>"
            ],
            "image/png": "[encoded data removed]"
          },
          "metadata": {}
        }
      ],
      "source": [
        "import matplotlib.pyplot as plt\n",
        "\n",
        "#TODO: show pair-wise similarity\n",
        "plt.imshow(similarityAll)\n",
        "plt.show()"
      ],
      "id": "zLCWfK0cXB8X"
    },
    {
      "cell_type": "markdown",
      "metadata": {
        "id": "WG_ui-yaXB8X"
      },
      "source": [
        "# Threshold definition"
      ],
      "id": "WG_ui-yaXB8X"
    },
    {
      "cell_type": "code",
      "execution_count": 20,
      "metadata": {
        "colab": {
          "base_uri": "https://localhost:8080/",
          "height": 430
        },
        "id": "9SiHjXHKXB8X",
        "outputId": "687f497a-73cc-4cbe-96de-b82e5b2b1ac2"
      },
      "outputs": [
        {
          "output_type": "display_data",
          "data": {
            "text/plain": [
              "<Figure size 640x480 with 1 Axes>"
            ],
            "image/png": "[encoded data removed]"
          },
          "metadata": {}
        }
      ],
      "source": [
        "pred_plagiarism = similarityAll>0.2\n",
        "\n",
        "#TODO: show pair-wise similarity\n",
        "plt.imshow(pred_plagiarism)\n",
        "plt.show()"
      ],
      "id": "9SiHjXHKXB8X"
    },
    {
      "cell_type": "markdown",
      "metadata": {
        "id": "bVPhzzGqXB8X"
      },
      "source": [
        "# Perf estimation"
      ],
      "id": "bVPhzzGqXB8X"
    },
    {
      "cell_type": "code",
      "execution_count": 28,
      "metadata": {
        "id": "6ka6J7xrXB8X"
      },
      "outputs": [],
      "source": [
        "import numpy as np\n",
        "real_plagiarism = np.zeros((9,9))\n",
        "\n",
        "# TODO: build the true labels matrix (to do automatically would be better...)\n",
        "for i in range(len(real_plagiarism)):\n",
        "  real_plagiarism[i, i] = 1\n",
        "  if i==0 or i==2 or i==4 or i==6:\n",
        "    real_plagiarism[i, i+1] = 1\n",
        "    real_plagiarism[i+1, i] = 1\n",
        "  if i==6:\n",
        "    real_plagiarism[i+2, i] = 1\n",
        "    real_plagiarism[i+2, i+1] = 1\n",
        "    real_plagiarism[i, i+2] = 1\n",
        "    real_plagiarism[i+1, i+2] = 1"
      ],
      "id": "6ka6J7xrXB8X"
    },
    {
      "cell_type": "code",
      "execution_count": 29,
      "metadata": {
        "colab": {
          "base_uri": "https://localhost:8080/",
          "height": 430
        },
        "id": "9fkGZHTNXB8X",
        "outputId": "c42d1d2d-8e5a-44fa-bd25-b7bd69b8f39b"
      },
      "outputs": [
        {
          "output_type": "display_data",
          "data": {
            "text/plain": [
              "<Figure size 640x480 with 1 Axes>"
            ],
            "image/png": "[encoded data removed]"
          },
          "metadata": {}
        }
      ],
      "source": [
        "import matplotlib.pyplot as plt\n",
        "plt.imshow(real_plagiarism)\n",
        "plt.show()"
      ],
      "id": "9fkGZHTNXB8X"
    },
    {
      "cell_type": "code",
      "execution_count": 31,
      "metadata": {
        "colab": {
          "base_uri": "https://localhost:8080/"
        },
        "id": "kfS39133XB8X",
        "outputId": "a28b9c37-6c57-4bd6-9cf3-e30391332c31"
      },
      "outputs": [
        {
          "output_type": "execute_result",
          "data": {
            "text/plain": [
              "1.0"
            ]
          },
          "metadata": {},
          "execution_count": 31
        }
      ],
      "source": [
        "from sklearn.metrics import accuracy_score\n",
        "\n",
        "#TODO: compute the accuracy score based on true matrices\n",
        "accuracy_score(real_plagiarism, pred_plagiarism)"
      ],
      "id": "kfS39133XB8X"
    }
  ],
  "metadata": {
    "kernelspec": {
      "display_name": "Python 3",
      "language": "python",
      "name": "python3"
    },
    "language_info": {
      "codemirror_mode": {
        "name": "ipython",
        "version": 3
      },
      "file_extension": ".py",
      "mimetype": "text/x-python",
      "name": "python",
      "nbconvert_exporter": "python",
      "pygments_lexer": "ipython3",
      "version": "3.6.5"
    },
    "colab": {
      "provenance": []
    }
  },
  "nbformat": 4,
  "nbformat_minor": 5
}